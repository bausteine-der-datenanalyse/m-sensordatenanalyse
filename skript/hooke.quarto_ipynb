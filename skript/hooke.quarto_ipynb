{
  "cells": [
    {
      "cell_type": "markdown",
      "metadata": {},
      "source": [
        "# Lineare Parameterschätzung\n",
        "**Geht es in diesem Kapitel überhaupt um Kennlinien? Lineare Parameterschätzung?!**\n",
        "\n",
        "Mögliche Quellen:\n",
        "\n",
        "  - https://messtechnik-und-sensorik.org/2-kennlinien-und-messgenauigkeit/  \n",
        "  - https://www.stssensors.com/de/characteristic-curve-hysteresis-measurement-error-terminology-in-pressure-measurement-technology/ \n",
        "\n",
        "## Messreihe Hooke'sches Gesetz\n",
        "Das [Hooke'sche Gesetz](https://de.wikipedia.org/wiki/Hookesches_Gesetz), benannt nach dem englischen Wissenschaftler Robert Hooke, beschreibt die Beziehung zwischen der Kraft $F$ und der Längenänderung $\\Delta{x}$ einer Feder durch die Gleichung $F = k \\times \\Delta{x}$, wobei $k$ die Federkonstante ist.\n",
        "\n",
        "Die Federkonstante ist eine grundlegende Eigenschaft elastischer Materialien und gibt an, wie viel Kraft erforderlich ist, um eine Feder um eine bestimmte Länge zu dehnen oder zu komprimieren. Das Hooke'sche Gesetz besagt, dass die Deformation eines elastischen Körpers proportional zur aufgebrachten Kraft ist, solange die Feder nicht über den elastischen Bereich hinaus gedehnt oder gestaucht wird.\n",
        "\n",
        "In einem Experiment wurde das Hooke'sche Gesetz überprüft. An einer an einer Halterung hängenden Metallfeder ist ein (variables) Gewicht angebracht. Darunter befindet sich in einigem Abstand ein Ultraschallsensor zur Abstandsmessung. Der Abstand zwischen der Unterseite des an der Feder befestigten Gewichts und dem Ultraschallsensor ist der gemessene Abstand.\n",
        "\n",
        "Die Gewichte konnten mit einer Genauigkeit von $\\epsilon_{m} = 0,5 g$ mit einer Küchenwaage bestimmt werden.\n"
      ],
      "id": "8f94a950"
    },
    {
      "cell_type": "code",
      "metadata": {},
      "source": [
        "#| echo: false\n",
        "\n",
        "import numpy as np\n",
        "import numpy.polynomial.polynomial as poly\n",
        "import pandas as pd\n",
        "import matplotlib.pyplot as plt\n",
        "import scipy\n",
        "import glob"
      ],
      "id": "b497754d",
      "execution_count": null,
      "outputs": []
    },
    {
      "cell_type": "markdown",
      "metadata": {},
      "source": [
        "![Versuchsaufbau](00-bilder/aufbau.png){fig-alt=\"Darstellung des Versuchsaufbaus.\"}\n",
        "\n",
        "Die Messreihe liegt in Form einer CSV-Datei unter dem Pfad '01-daten/hooke_data.csv' vor. Die Datei wird mit Pandas eingelesen.\n"
      ],
      "id": "efe624c8"
    },
    {
      "cell_type": "code",
      "metadata": {},
      "source": [
        "dateipfad = \"01-daten/hooke_data.csv\"\n",
        "hooke = pd.read_csv(filepath_or_buffer = dateipfad, sep = ';')"
      ],
      "id": "3c66a5e9",
      "execution_count": null,
      "outputs": []
    },
    {
      "cell_type": "markdown",
      "metadata": {},
      "source": [
        "### Deskriptive Statistik\n",
        "Nach dem Einlesen sollte man sich einen Überblick über die Daten verschaffen. Mit den Methoden `pd.DataFrame.head()` und `pd.DataFrame.tail()` kann ein Ausschnitt vom Beginn und vom Ende der Daten betrachtet werden. "
      ],
      "id": "55f9ca87"
    },
    {
      "cell_type": "code",
      "metadata": {},
      "source": [
        "print(hooke.head(), \"\\n\")\n",
        "print(hooke.tail())"
      ],
      "id": "deab8edf",
      "execution_count": null,
      "outputs": []
    },
    {
      "cell_type": "markdown",
      "metadata": {},
      "source": [
        "Die Methode `pd.DataFrame.describe()` erstellt die deskriptive Statistik für den Datensatz. Diese ist in diesem Fall jedoch noch nicht sonderlich nützlich. Die Spalte 'no' enthält lediglich eine laufende Versuchsnummer, die Spalte 'mass' enhält verschiedene Gewichte.\n"
      ],
      "id": "0869dc32"
    },
    {
      "cell_type": "code",
      "metadata": {},
      "source": [
        "hooke.describe()"
      ],
      "id": "b5d4ab22",
      "execution_count": null,
      "outputs": []
    },
    {
      "cell_type": "markdown",
      "metadata": {},
      "source": [
        "&nbsp;\n",
        "\n",
        "Sinnvoller ist eine nach dem verwendeten Gewicht aufgeteilte beschreibende Statistik der gemessenen Ausdehnung. Dafür kann die Pandas-Methode `pd.DataFrame.groupby()` verwendet werden. So kann für jedes der gemessenen Gewichte der arithmethische Mittelwert und die Standardabweichung abgelesen werden.\n"
      ],
      "id": "91f81e12"
    },
    {
      "cell_type": "code",
      "metadata": {},
      "source": [
        "hooke.groupby(by = 'mass')['distance'].describe()"
      ],
      "id": "0b7d8919",
      "execution_count": null,
      "outputs": []
    },
    {
      "cell_type": "markdown",
      "metadata": {},
      "source": [
        "&nbsp;\n",
        "\n",
        "Bereits an dieser Stelle könnte die hohe Standardabweichung in der Messreihe mit 0 Gramm auffallen. Leichter ist es jedoch in der grafischen Betrachtung.\n"
      ],
      "id": "1bdfd429"
    },
    {
      "cell_type": "code",
      "metadata": {},
      "source": [
        "#| fig-alt: \"Darstellung des auf der x-Achse aufgetragenen Gewichts und des auf der y-Achse aufgetragenen gemessenen Abstands.\"\n",
        "\n",
        "hooke.plot(x = 'mass', y = 'distance', kind = 'scatter', title = \"Messreihe Hooke`sches Gesetz\", ylabel = 'Abstand in cm', xlabel = 'Gewicht in Gramm')"
      ],
      "id": "a18e0fe1",
      "execution_count": null,
      "outputs": []
    },
    {
      "cell_type": "markdown",
      "metadata": {},
      "source": [
        "&nbsp;\n",
        "\n",
        "Grafisch fällt der Messwert von 200 cm für das Gewicht 0 Gramm als stark von den übrigen Messwerten abweichend auf.\n",
        "\n",
        "Die Messwerte für das Gewicht 0 Gramm sollen näher betrachtet werden. Dafür werden die Messwerte sowohl absolut, als auch [standardisiert in Einheiten der Standardabweichung (z-Werten)](https://de.wikipedia.org/wiki/Standardisierung_(Statistik)) ausgedrückt ausgegeben.\n",
        "\n",
        "Eine Variable wird standardisiert, indem von jedem Wert der Erwartungswert abgezogen und das Ergebnis durch die Standardabweichung geteilt wird.\n",
        "\n",
        "$$\n",
        "Z = \\frac{x - \\mu}{\\sigma}\n",
        "$$\n",
        "\n",
        "Da in der Regel der Erwartungswert und die Standardabweichung unbekannt sind, werden der Stichprobenmittelwert und die Stichprobenstandardabweichung verwendet. Dies nennt man *Studentisieren*, nach dem Pseudonym bereits im vorherigen Kapitel erwähnten William Sealy Gosset.\n",
        "\n",
        "$$\n",
        "z_{i} = \\frac{x_{i} - \\bar{x}}{s}\n",
        "$$\n"
      ],
      "id": "5d0f1ca0"
    },
    {
      "cell_type": "code",
      "metadata": {},
      "source": [
        "gewicht = 0\n",
        "\n",
        "# z-Transformation manuell berechnen\n",
        "mittelwert_ausdehnung = hooke[hooke['mass'] == gewicht].loc[: , 'distance'].mean()\n",
        "standardabweichung_ausdehnung = hooke[hooke['mass'] == gewicht].loc[: , 'distance'].std(ddof = 1)\n",
        "\n",
        "z_values = hooke[hooke['mass'] == gewicht].loc[: , 'distance'].apply(lambda x: ( (x - mittelwert_ausdehnung) /standardabweichung_ausdehnung))\n",
        "z_values.name = 'z-values'\n",
        "\n",
        "# z-Transformation mit scipy\n",
        "scipy_z_values = scipy.stats.zscore(hooke[hooke['mass'] == gewicht].loc[: , 'distance'], ddof = 1)\n",
        "scipy_z_values.name = 'scipy z-values'\n",
        "\n",
        "# gemeinsame Ausgabe der Daten\n",
        "print(pd.concat([hooke[hooke['mass'] == gewicht], z_values, scipy_z_values], axis = 1))"
      ],
      "id": "9f034e35",
      "execution_count": null,
      "outputs": []
    },
    {
      "cell_type": "markdown",
      "metadata": {},
      "source": [
        "Der Wert 200 cm in Zeile 113 scheint fehlerhaft zu sein. Eine Eigendehnung der Feder um zusätzliche 16 Zentimeter ist nicht plausibel. Auch der z-Wert > 3 kennzeichnet den Messwert als [Ausreißer](https://de.wikipedia.org/wiki/Ausrei%C3%9Fer). Die Zeile wird deshalb aus dem Datensatz entfernt.\n",
        "\n",
        "::: {#imp-ausreißer .callout-important collapse=\"false\"}\n",
        "## Ausreißer\n",
        "\n",
        "In der Statistik wird ein Messwert als Ausreißer bezeichnet, wenn dieser stark von der übrigen Messreihe abweicht. In einer Messreihe können auch mehrere Ausreißer auftreten. Diese Werte können zur Verbesserung der Schätzung aus der Messreihe entfernt werden, wenn anzunehmen ist, dass diese durch Messfehler und andere Störgrößen verursacht sind. \n",
        "\n",
        "Eine Möglichkeit, Ausreißer zu identifizieren, ist die z-Transformation. Dabei muss ein Schwellenwert gewählt werden, ab dem ein Messwert als Ausreißer klassifiziert werden soll, bspw. 2,5 oder 3 Einheiten der Standardabweichung. In der Statistik wurde eine ganze Reihe von Ausreißertests entwickelt (siehe [Ausreißertests](https://de.wikipedia.org/wiki/Ausrei%C3%9Fer#Ausrei%C3%9Fertests))\n",
        "\n",
        "Die Einstufung eines Messwerts als Ausreißer kann aber nicht allein auf der Grundlage statistischer Verfahren erfolgen, sondern ist immer eine Ermessensentscheidung auf der Grundlage Ihres Fachwissens. Denn nicht alle abweichenden Werte sind automatisch ungültig, sondern treten mit einer gewissen statistischen Wahrscheinlichkeit auf (siehe Kapitel Normalverteilung). Man spricht dann von gültigen Extremwerten.\n",
        "\n",
        "Ausreißer von verschiedenen [Autor:innen](https://xtools.wmcloud.org/authorship/de.wikipedia.org/Ausrei%C3%9Fer?uselang=de) steht unter der Lizenz [CC BY-SA 4.0](https://creativecommons.org/licenses/by-sa/4.0/deed.de) und ist abrufbar auf [Wikipedia](https://de.wikipedia.org/wiki/Ausrei%C3%9Fer)\n",
        ":::\n"
      ],
      "id": "eaf0f765"
    },
    {
      "cell_type": "code",
      "metadata": {},
      "source": [
        "hooke.drop(index = 113, inplace = True)\n",
        "\n",
        "hooke.groupby(by = 'mass')['distance'].describe()"
      ],
      "id": "0b50665e",
      "execution_count": null,
      "outputs": []
    },
    {
      "cell_type": "markdown",
      "metadata": {},
      "source": [
        "&nbsp;\n",
        "\n",
        "Hiernach ist die höchste Standardabweichung für die Messreihe mit 301 Gramm zu verzeichnen. Die gemessenen Werte sind jedoch unauffällig.\n"
      ],
      "id": "c082295c"
    },
    {
      "cell_type": "code",
      "metadata": {},
      "source": [
        "gewicht = 301\n",
        "\n",
        "z_values = scipy_z_values = scipy.stats.zscore(hooke[hooke['mass'] == gewicht].loc[: , 'distance'], ddof = 1)\n",
        "z_values.name = 'z-values'\n",
        "\n",
        "print(pd.concat([hooke[hooke['mass'] == gewicht], z_values], axis = 1))"
      ],
      "id": "87a16824",
      "execution_count": null,
      "outputs": []
    },
    {
      "cell_type": "markdown",
      "metadata": {},
      "source": [
        "Die Grafik des bereinigten Datensatzes legt einen linearen Zusammenhang nahe. Darüber hinaus sticht der mit zunehmendem Gewicht abfallende Trend der Datenpunkte ins Auge.\n"
      ],
      "id": "c45c642f"
    },
    {
      "cell_type": "code",
      "metadata": {},
      "source": [
        "#| fig-alt: \"Darstellung des auf der x-Achse aufgetragenen Gewichts und des auf der y-Achse aufgetragenen gemessenen Abstands.\"\n",
        "\n",
        "hooke.plot(x = 'mass', y = 'distance', kind = 'scatter', title = 'bereinigter Datensatz', ylabel = 'Abstand in cm', xlabel = 'Gewicht in Gramm')"
      ],
      "id": "987ba31a",
      "execution_count": null,
      "outputs": []
    },
    {
      "cell_type": "markdown",
      "metadata": {},
      "source": [
        "&nbsp;\n",
        "\n",
        "Entsprechend des Versuchsaufbaus nimmt mit zunehmender Dehnung der Feder der Abstand zum Abstandssensor ab. Da die Federausdehnung gemessen werden soll, bietet es sich an, die Daten entsprechend zu transformieren. Dazu wird der gemessene Abstand bei 0 Gramm Gewicht als Nullpunkt aufgefasst, von dem aus die Federdehnung gemessen wird. Das bedeutet, dass von allen Datenpunkten das arithmetische Mittel der für 0 Gramm Gewicht gemessen Ausdehnung abgezogen und das Ergebnis mit -1 multipliziert wird.\n"
      ],
      "id": "82cd84e2"
    },
    {
      "cell_type": "code",
      "metadata": {},
      "source": [
        "#| fig-alt: \"Darstellung des auf der x-Achse aufgetragenen Gewichts und des auf der y-Achse aufgetragenen Federausdehnung.\"\n",
        "\n",
        "nullpunkt = hooke[hooke['mass'] == 0].loc[: , 'distance'].mean()\n",
        "print(f\"Nullpunkt: {nullpunkt:.2f} cm\")\n",
        "\n",
        "hooke['distance'] = hooke['distance'].sub(nullpunkt).mul(-1)\n",
        "\n",
        "hooke.plot(x = 'mass', y = 'distance', kind = 'scatter', title = 'bereinigter und invertierter Datensatz', ylabel = 'Federausdehnung in cm', xlabel = 'Gewicht in Gramm')"
      ],
      "id": "1636f03e",
      "execution_count": null,
      "outputs": []
    },
    {
      "cell_type": "markdown",
      "metadata": {},
      "source": [
        "&nbsp;\n",
        "\n",
        "Mit der Funktion `plt.errorbars()` können die Mittelwerte und Standardfehler für jedes Gewicht grafisch dargestellt werden. Da die Standardfehler eher klein sind, werden mit dem Parameter `capsize` horizontale Linien am Ende des Fehlerbalkens eingezeichnet.\n"
      ],
      "id": "a1288bf1"
    },
    {
      "cell_type": "code",
      "metadata": {},
      "source": [
        "#| fig-alt: \"Auf der x-Achse ist das Gewicht in Gramm, auf der y-Achse die Federausdehnung in cm abgetragen. Zusätzlich zu den Messpunkten sind für jedes Gewicht der Mittelwert mit einem großen X und von dessen Mittelpunkt ausgehend der Bereich des Mittelwerts ± 1 Standardfehler eingezeichnet.\"\n",
        "\n",
        "# Mittelwerte nach Gewicht\n",
        "distance_means_by_weight = hooke['distance'].groupby(by = hooke['mass']).mean()\n",
        "distance_means_by_weight.name = 'Federausdehnung'\n",
        "\n",
        "# Standardfehler nach Gewicht\n",
        "distance_stderrors_by_weight = hooke['distance'].groupby(by = hooke['mass']).std(ddof = 1).div(np.sqrt(hooke['distance'].groupby(by = hooke['mass']).size()))\n",
        "distance_stderrors_by_weight.name = 'Standardfehler'\n",
        "\n",
        "hooke.plot(x = 'mass', y = 'distance', kind = 'scatter', title = 'bereinigter und invertierter Datensatz', ylabel = 'Federausdehnung in cm', xlabel = 'Gewicht in Gramm', alpha = 0.6)\n",
        "\n",
        "errorbar_container = plt.errorbar(\n",
        "  x = distance_means_by_weight.index, y = distance_means_by_weight, yerr = distance_stderrors_by_weight,\n",
        "  linestyle = 'none', marker = 'x', color = 'black', markersize = 12, elinewidth = 3, ecolor = 'red', capsize = 12)\n",
        "\n",
        "# siehe: https://matplotlib.org/stable/api/container_api.html#matplotlib.container.ErrorbarContainer\n",
        "plt.legend([errorbar_container.lines[0], errorbar_container.lines[2][0]],\n",
        "           ['Mittelwert', 'Standardfehler'],\n",
        "           loc = 'upper left')\n",
        "plt.show()\n",
        "\n",
        "print(pd.concat([distance_means_by_weight, distance_stderrors_by_weight], axis = 1))"
      ],
      "id": "d55f1b4f",
      "execution_count": null,
      "outputs": []
    },
    {
      "cell_type": "markdown",
      "metadata": {},
      "source": [
        "## Federkonstante bestimmen\n",
        "Die Beziehung zwischen der Kraft $F$ und der Längenänderung $\\Delta{x}$ einer Feder mit Federkonstante $k$ wird durch die Gleichung $F = k \\times \\Delta{x}$ beschrieben. Dabei entspricht die Kraft $F$ dem mit der Fallbeschleunigung $g$  multiplizierten Gewicht in Kilogramm $m$. Die Fallbeschleunigung beträgt auf der Erde $9,81 \\frac{m}{s^2}$.\n",
        "\n",
        "Deshalb wird im Datensatz das in der Spalte 'mass' eingetragene Gewicht in Gramm in die wirkende Kraft umgerechnet. Ebenso wird die gemessene Abstandsänderung in der Spalte 'distance' von Zentimeter in Meter umgerechnet.\n"
      ],
      "id": "7dabddf4"
    },
    {
      "cell_type": "code",
      "metadata": {},
      "source": [
        "hooke['mass'] = hooke['mass'].div(1000).mul(9.81)\n",
        "hooke.rename(columns = {'mass': 'force'}, inplace = True)\n",
        "\n",
        "hooke['distance'] = hooke['distance'].div(100)\n",
        "\n",
        "print(hooke.head())"
      ],
      "id": "3c05d411",
      "execution_count": null,
      "outputs": []
    },
    {
      "cell_type": "markdown",
      "metadata": {},
      "source": [
        "Für die grafische Darstellung des Zusammenhangs $F = k \\times \\Delta{x}$ ist es zweckmäßiger, die Abstandsänderung auf der x-Achse und die wirkende Kraft auf der y-Achse darzustellen.\n"
      ],
      "id": "e03fa60e"
    },
    {
      "cell_type": "code",
      "metadata": {},
      "source": [
        "#| fig-alt: \"Darstellung der auf der x-Achse aufgetragenen Federausdehnung und der auf der y-Achse aufgetragenen wirkenden Kraft.\"\n",
        "\n",
        "hooke.plot(x = 'distance', y = 'force', kind = 'scatter', title = 'umgeformter Datensatz', ylabel = 'wirkende Kraft in $N$', xlabel = 'Abstandsänderung in Meter')"
      ],
      "id": "572cd2a7",
      "execution_count": null,
      "outputs": []
    },
    {
      "cell_type": "markdown",
      "metadata": {},
      "source": [
        "### Lineare Ausgleichsrechnung\n",
        "Die Ausgleichsrechnung (oder auch Parameterschätzung) ist eine Methode, um für eine Messreihe die unbekannten Parameter des zugrundeliegenden physikalischen Modells zu schätzen. Das Ziel besteht darin, eine (in diesem Fall lineare) Funktion zu bestimmen, die bestmöglich an die Messdaten angepasst ist. ([Wikipedia](https://de.wikipedia.org/wiki/Ausgleichungsrechnung))\n",
        "\n",
        "Eine lineare Funktion wird durch die Konstante $\\beta_0$, den Schnittpunkt mit der y-Achse, und den Steigungskoeffizienten $\\beta_1$ bestimmt.\n",
        "\n",
        "$$\n",
        "y = \\beta_0 + \\beta_1 \\times x\n",
        "$$\n",
        "\n",
        "In der Regel liegt kein deterministischer Zusammenhang vor, sondern es treten zufällige Abweichungen auf, die mit dem additiven Fehlerterm ausgedrückt und aus dem Englischen error mit $e_i$ notiert werden. Diese Fehler werden Residuen genannt.\n",
        "\n",
        "$$\n",
        "y = \\beta_0 + \\beta_1 \\times x + e_i\n",
        "$$\n",
        "\n",
        "Zur Bestimmung der Parameter einer linearen Funktion wird die Methode der [kleinsten Quadrate](https://de.wikipedia.org/wiki/Methode_der_kleinsten_Quadrate) verwendet.\n",
        "\n",
        "\n",
        "**Die Herleitung der Formeln sind viel LaTeX (Skript MB: 73- 74)**  \n",
        "**Quelle: Skript MB S. 71-74**\n",
        "\n",
        "::: {#nte-ols .callout-note collapse=\"true\"}\n",
        "## Methode der kleinsten Quadrate\n",
        "\n",
        "Mit der Methode der kleinsten Quadrate soll diejenige Gerade $\\hat{y} = \\beta_0 + \\beta_1 \\times x$ gefunden werden, die die quadrierten Abstände der  Vorhersagewerte $\\hat{y}$ von den tatsächlich gemessenen Werten $y$ minimiert. Die Werte $y_i - \\hat{y_i}$ sind die Residuen $e_i$. Es gilt also:\n",
        "\n",
        "$$\n",
        "\\sum_{i=1}^{N}(y_i - \\hat{y_i})^2 = \\sum_{i=1}^{N} e_i = \\min\n",
        "$$\n",
        "\n",
        "Grafisch kann man sich die Minimierung der quadrierten Abstände so vorstellen.\n",
        "\n",
        ":::: {.panel-tabset}\n",
        "## Grafik"
      ],
      "id": "2a7108b7"
    },
    {
      "cell_type": "code",
      "metadata": {},
      "source": [
        "#| fig-alt: \"Auf einer Geraden sind 9 Punkte markiert, die die Vorhersagewerte des linearen Modells repräsentieren. Vertikal darüber oder darunter sind die Messwerte eingezeichnet. Jeder Vorhersagewerte ist durch eine gestrichelte, vertikale Linie mit einem der Messwerte verbunden.\"\n",
        "#| echo: false\n",
        "\n",
        "x = np.arange(1, 11)\n",
        "y = - x.copy() + 4\n",
        "y[0] -= 2\n",
        "y[2] -= 2\n",
        "y[3] += 3\n",
        "y[-3] += 5\n",
        "\n",
        "lm = poly.polyfit(x, y, 1)\n",
        "vorhersagewerte = poly.polyval(x, lm)\n",
        "\n",
        "plt.scatter(x, vorhersagewerte, label = 'Vorhersagewerte', marker = \"^\", color = \"tab:blue\")\n",
        "plt.scatter(x, y, label = 'Messwerte', marker = 'o', color = \"tab:orange\")\n",
        "plt.axline(xy1 = (0, lm[0]), slope = lm[1], label = \"Regressionsgerade\", color = \"tab:blue\")\n",
        "dotted = plt.vlines(x, ymin = vorhersagewerte, ymax = y, alpha = 0.6, ls = 'dotted', label = 'Residuen')\n",
        "\n",
        "plt.legend()\n",
        "plt.show()\n",
        "\n",
        "print(\"Regressionskoeffizienten:\", lm)"
      ],
      "id": "c4dc6ea8",
      "execution_count": null,
      "outputs": []
    },
    {
      "cell_type": "markdown",
      "metadata": {},
      "source": [
        "## Code"
      ],
      "id": "c8c3803a"
    },
    {
      "cell_type": "code",
      "metadata": {},
      "source": [
        "#| fig-alt: \"Auf einer Geraden sind 9 Punkte markiert, die die Vorhersagewerte des linearen Modells repräsentieren. Vertikal darüber oder darunter sind die Messwerte eingezeichnet. Jeder Vorhersagewerte ist durch eine gestrichelte, vertikale Linie mit einem der Messwerte verbunden.\"\n",
        "#| output: false\n",
        "\n",
        "x = np.arange(1, 11)\n",
        "y = - x.copy() + 4\n",
        "y[0] -= 2\n",
        "y[2] -= 2\n",
        "y[3] += 3\n",
        "y[-3] += 5\n",
        "\n",
        "lm = poly.polyfit(x, y, 1)\n",
        "vorhersagewerte = poly.polyval(x, lm)\n",
        "\n",
        "plt.scatter(x, vorhersagewerte, label = 'Vorhersagewerte', marker = \"^\", color = \"tab:blue\")\n",
        "plt.scatter(x, y, label = 'Messwerte', marker = 'o', color = \"tab:orange\")\n",
        "plt.axline(xy1 = (0, lm[0]), slope = lm[1], label = \"Regressionsgerade\", color = \"tab:blue\")\n",
        "dotted = plt.vlines(x, ymin = vorhersagewerte, ymax = y, alpha = 0.6, ls = 'dotted', label = 'Residuen')\n",
        "\n",
        "plt.legend()\n",
        "plt.show()\n",
        "\n",
        "print(\"Regressionskoeffizienten:\", lm)"
      ],
      "id": "87d707a2",
      "execution_count": null,
      "outputs": []
    },
    {
      "cell_type": "markdown",
      "metadata": {},
      "source": [
        "::::\n",
        "\n",
        "&nbsp;\n",
        "\n",
        "Die eingezeichnete Gerade entspricht der linearen Funktion $\\hat{y} = \\beta_0 + \\beta_1 \\times x + e_i$. Die Dreiecksmarker sind die Vorhersagewerte $\\hat{y_i}$ des linearen Modells für die Werte $x_i = np.arange(1, 11)$. Die tatsächlichen Messwerte $y$ sind mit Kreismarkern markiert. Die Länge der gestrichelten Linien entspricht der Größe der Abweichung zwischen den Mess- und Vorhersagewerten $y_i - \\hat{y_i}$, also den Residuen $e_i$.\n",
        "\n",
        "Gesucht wird diejenige Gerade, die die Summe der quadrierten Residuen minimiert. Die gesuchten Werte $\\beta_0$ und $\\beta_1$ sind die Kleinst-Quadrate-Schätzer.\n",
        "\n",
        "$$\n",
        "\\beta_0 = \\bar{y} - \\beta_1 \\cdot \\bar{x}\n",
        "$$\n",
        "\n",
        "$$\n",
        "\\beta_1 = { \\sum_{i=1}^n (x_i- \\bar{x}) \\cdot (y_i - \\bar{y}) \\over \\sum_{i=1}^n (x_i - \\bar{x})^2 }\n",
        "$$\n",
        "\n",
        ":::\n",
        "\n",
        "\n",
        "Die Funktionen dafür stellen sowohl das Paket `numpy.polynomial` bzw. für Polynomfunktionen dessen Modul `numpy.polynomial.polynomial` als auch das Modul `scipy.stats.linregress` bereit. Im Folgenden wird die Berechnung mit NumPy gezeigt und anschließend die Funktionen aus dem Modul SciPy vorgestellt. Die Funktionsweise beider Module ist ähnlich.\n",
        "\n",
        "#### NumPy polyfit und polyeval\n"
      ],
      "id": "601bd63f"
    },
    {
      "cell_type": "code",
      "metadata": {},
      "source": [
        "import numpy.polynomial.polynomial as poly"
      ],
      "id": "bd66c086",
      "execution_count": null,
      "outputs": []
    },
    {
      "cell_type": "markdown",
      "metadata": {},
      "source": [
        "Zur Schätzung von Funktionsparametern nach der Methode der kleinsten Quadrate wird die Funktion `poly.polyfit(x, y, deg)` verwendet. `x` sind die Werte der unabhängigen Variablen, `y` die Werte der abhängigen Variablen und `deg` spezifiziert den Grad der gesuchten Polynomfunktion. `deg = 1` spezifiziert eine lineare Funktion.\n",
        "\n",
        "::: {#nte-polyfitpolyeval .callout-note collapse=\"true\"}\n",
        "## polyfit und polyeval erklärt\n"
      ],
      "id": "cae8773a"
    },
    {
      "cell_type": "code",
      "metadata": {},
      "source": [
        "# Beispieldaten erzeugen\n",
        "x = np.array(list(range(0, 100)))\n",
        "y = x ** 2\n",
        "\n",
        "print(poly.polyfit(x, y, 1))"
      ],
      "id": "cd289c5c",
      "execution_count": null,
      "outputs": []
    },
    {
      "cell_type": "markdown",
      "metadata": {},
      "source": [
        "Die Funktion gibt die geschätzten Regressionsparameter als NumPy-Array zurück. Die Terme sind aufsteigend angeordnet, d. h. der Achsabschnitt steht an Indexposition 0, der Steigungskoeffizient an Indexposition 1. Die Ausgabe für ein Polynom zweiten Grades würde beispielsweise so aussehen:\n"
      ],
      "id": "3ef4e952"
    },
    {
      "cell_type": "code",
      "metadata": {},
      "source": [
        "print(poly.polyfit(x, y, 2))"
      ],
      "id": "5414e757",
      "execution_count": null,
      "outputs": []
    },
    {
      "cell_type": "markdown",
      "metadata": {},
      "source": [
        "Mit den Regressionskoeffizienten können die Vorhersagewerte der linearen Funktion berechnet werden. Dafür wird die Funktion `poly.polyeval(x, c)` verwendet. Diese berechnet die Funktionswerte für in `x` übergebene Wert(e) mit den Funktionsparametern `c`. Aus der Differenz der gemessenen Werte und der Vorhersagewerte können die Residuen bestimmt werden.\n"
      ],
      "id": "70b9e913"
    },
    {
      "cell_type": "code",
      "metadata": {},
      "source": [
        "# 'manuelle' Berechnung\n",
        "regressions_koeffizienten = poly.polyfit(x, y, 1)\n",
        "vorhersagewerte = regressions_koeffizienten[0] + x * regressions_koeffizienten[1]\n",
        "residuen = y - vorhersagewerte\n",
        "\n",
        "# Berechnung mit polyeval\n",
        "lm = poly.polyfit(x, y, 1)\n",
        "vorhersagewerte_polyval = poly.polyval(x, lm)\n",
        "\n",
        "print(\"Die Ergebnisse stimmen überein:\", np.equal(vorhersagewerte, vorhersagewerte_polyval).all())\n",
        "print(\"\\nAusschnitt der Vorhersagewerte:\", vorhersagewerte[:10])"
      ],
      "id": "42d0641c",
      "execution_count": null,
      "outputs": []
    },
    {
      "cell_type": "markdown",
      "metadata": {},
      "source": [
        "Das [Bestimmtheitsmaß](https://de.wikipedia.org/wiki/Bestimmtheitsma%C3%9F) $R^2$ gibt an, wie gut die Schätzfunktion an die Daten angepasst ist. Der Wertebereich reicht von 0 bis 1. Ein Wert von 1 bedeutet eine vollständige Anpassung. Für eine einfache lineare Regression mit nur einer erklärenden Variable kann das Bestimmtheitsmaß als Quadrat des [Bravais-Pearson-Korrelationskoeffizienten](https://de.wikipedia.org/wiki/Korrelationskoeffizient_nach_Bravais-Pearson) $r$ berechnet werden. Dieser wird mit der Funktion `np.corrcoef(x, y)` ermittelt (die eine Matrix der Korrelationskoeffizienten ausgibt).\n"
      ],
      "id": "392b0df5"
    },
    {
      "cell_type": "code",
      "metadata": {},
      "source": [
        "print(f\"r = {np.corrcoef(x, y)[0, 1]:.2f}\")\n",
        "print(f\"R\\u00b2 = {np.corrcoef(x, y)[0, 1] ** 2:.2f}\")"
      ],
      "id": "2575b386",
      "execution_count": null,
      "outputs": []
    },
    {
      "cell_type": "markdown",
      "metadata": {},
      "source": [
        "Die Daten und die geschätzte Gerade können grafisch dargestellt werden.\n"
      ],
      "id": "c8743fff"
    },
    {
      "cell_type": "code",
      "metadata": {},
      "source": [
        "import matplotlib.pyplot as plt\n",
        "\n",
        "plt.scatter(x, y, label = 'Beispieldaten')\n",
        "plt.plot(x, vorhersagewerte, label = 'Vorhersagewerte')\n",
        "plt.annotate(\"$R^2$ = {:.2f}\".format(np.corrcoef(x, y)[0, 1] ** 2), (max(x) * 0.9, 1))\n",
        "\n",
        "plt.title(label = 'Beispieldaten und geschätzte Linearfunktion')\n",
        "plt.xlabel('x-Werte')\n",
        "plt.ylabel('y-Werte')\n",
        "plt.legend()\n",
        "\n",
        "plt.show()"
      ],
      "id": "4c5a51f9",
      "execution_count": null,
      "outputs": []
    },
    {
      "cell_type": "markdown",
      "metadata": {},
      "source": [
        ":::\n",
        "\n",
        "NumPy umfasst außerdem die inzwischen veralteten Funktionen `np.polyfit(x, y, deg)` und `np.polyval(p, x)`.\n",
        "\n",
        "::: {#nte-polyfit .callout-note collapse=\"true\"}\n",
        "\n",
        "## np.polyfit & np.polyval\n",
        "Die Funktionen `np.polyfit(x, y, deg)` und `np.polyval(p, x)` funktionieren wie die vorgestellten Funktionen aus dem Modul `numpy.polynomial.polynomial`. Ein wichtiger Unterschied besteht jedoch darin, dass **die Parameter der Funktion `polyfit` in umgekehrter Reihenfolge** ausgegeben werden.\n"
      ],
      "id": "cf4f8353"
    },
    {
      "cell_type": "code",
      "metadata": {},
      "source": [
        "print(poly.polyfit(x, y, deg = 1))\n",
        "print(np.polyfit(x, y, deg = 1))"
      ],
      "id": "38cb7ab3",
      "execution_count": null,
      "outputs": []
    },
    {
      "cell_type": "markdown",
      "metadata": {},
      "source": [
        ":::: {.border}\n",
        "::::: {.callout-note}\n",
        "\n",
        "This forms part of the old polynomial API. Since version 1.4, the new polynomial API defined in `numpy.polynomial` is preferred. A summary of the differences can be found in the [transition guide](https://numpy.org/doc/stable/reference/routines.polynomials.html).\n",
        "\n",
        ":::::\n",
        "\n",
        "[NumPy-Dokumentation](https://numpy.org/doc/stable/reference/generated/numpy.polyfit.html)\n",
        "\n",
        "::::\n",
        ":::\n",
        "\n",
        "Die Parameter der an die Messwerte angepassten linearen Funktion und das Bestimmtheitsmaß lauten:"
      ],
      "id": "071bc962"
    },
    {
      "cell_type": "code",
      "metadata": {},
      "source": [
        "print(poly.polyfit(hooke['distance'], hooke['force'], 1))\n",
        "\n",
        "print(f\"r = {np.corrcoef(hooke['distance'], hooke['force'])[0, 1]:.2f}\")\n",
        "print(f\"R\\u00b2 = {np.corrcoef(hooke['distance'], hooke['force'])[0, 1] ** 2:.2f}\")"
      ],
      "id": "a57b8526",
      "execution_count": null,
      "outputs": []
    },
    {
      "cell_type": "markdown",
      "metadata": {},
      "source": [
        "Mit den Regressionskoeffizienten können die Vorhersagewerte der linearen Funktion berechnet werden. \n"
      ],
      "id": "f1486d16"
    },
    {
      "cell_type": "code",
      "metadata": {},
      "source": [
        "# Berechnung mit polyeval\n",
        "lm = poly.polyfit(hooke['distance'], hooke['force'], 1)\n",
        "vorhersagewerte_hooke = poly.polyval(hooke['distance'], lm)"
      ],
      "id": "c505f506",
      "execution_count": null,
      "outputs": []
    },
    {
      "cell_type": "markdown",
      "metadata": {},
      "source": [
        "Die Messreihe und die darauf angepasste lineare Funktion können grafisch dargestellt werden.\n",
        "\n",
        "**Hier mal überlegen: Die lineare Funktion kennt keine Grenzen, aber die gemessene Abstandsänderung kann nicht (sinnvoll) kleiner als Null werden. Grafisch ist `plt.axline()` ggf. nicht so optimal.**\n"
      ],
      "id": "aa33237f"
    },
    {
      "cell_type": "code",
      "metadata": {},
      "source": [
        "#| fig-alt: \"Messdaten des Federexperiments (Abstandsänderung vs. wirkende Kraft) mit eingezeichneter Regressionsgeraden.\"\n",
        "\n",
        "# Platzhalter x & y\n",
        "x = hooke['distance']\n",
        "y = hooke['force']\n",
        "\n",
        "# Plot erstellen\n",
        "plt.scatter(x, y, label = 'Messdaten')\n",
        "plt.axline(xy1 = (0, lm[0]), slope = lm[1], label = 'Regressionsgerade\\ny = ' + \"{beta_0:.3f}\".format(beta_0 = lm[0]) + ' + ' + \"{beta_1:.3f} \".format(beta_1 = lm[1]) + 'x' )\n",
        "plt.annotate(\"$R^2$ = {:.2f}\".format(np.corrcoef(x, y)[0, 1] ** 2), (max(x) * 0.9, 1))\n",
        "\n",
        "plt.title(label = 'Messdaten und geschätzte Linearfunktion')\n",
        "plt.xlabel('gemessene Abstandsänderung in m')\n",
        "plt.ylabel('wirkende Kraft')\n",
        "plt.legend()\n",
        "\n",
        "plt.grid()\n",
        "plt.show()"
      ],
      "id": "45a4dde0",
      "execution_count": null,
      "outputs": []
    },
    {
      "cell_type": "markdown",
      "metadata": {},
      "source": [
        "### Messabweichung quantifizieren\n",
        "Für den geschätzten Regressionskoeffizienten kann für die lineare Regression mit einer erklärenden Variable der Standardfehler des Regressionskoeffizienten $SE = \\hat{\\sigma}_{\\hat{\\beta_1}}$ ermittelt werden (siehe [Wikipedia](https://de.wikipedia.org/wiki/Standardfehler_des_Regressionskoeffizienten#Spezialfall:_Lineare_Einfachregression)). \n",
        "\n",
        "$$\n",
        "SE = \\sqrt{\\frac{\\frac{1}{n-2} \\sum_{i=1}^{n} (y_i - \\hat{y}_i)^2}{ \\sum_{i=1}^{n} (x_i - \\bar{x})^2}}\n",
        "$$\n",
        "\n",
        "  - Im Zähler steht die mittlere [Residuenquadratsumme](https://de.wikipedia.org/wiki/Residuenquadratsumme) (Summe der quadrierten Residuen / Anzahl der Freiheitsgrade).\n",
        "  - Im Nenner steht die [Summe der Abweichungsquadrate von $x$](https://de.wikipedia.org/wiki/Summe_der_Abweichungsquadrate).\n",
        "\n",
        "Für ein Signifikanzniveau $\\alpha$ kann ein Konfidenzniveau $1 - \\alpha$ angegeben werden als:\n",
        "\n",
        "$$\n",
        "\\hat{\\beta_1} \\pm SE \\times t_{1-\\alpha / 2} ~ (n - 2)\n",
        "$$\n",
        "\n",
        " - $t_{1-\\alpha / 2} ~ (n - 2)$ ist der Wert der t-Verteilung mit 2 Freiheitsgraden bzw. der Rückgabewert der Funktion:\n",
        "    - `scipy.stats.t.ppf(q = 1 - alpha/2, df = n - 2)` für die obere Intervallgrenze.\n"
      ],
      "id": "d92de6b2"
    },
    {
      "cell_type": "code",
      "metadata": {},
      "source": [
        "print(f\"Regressionskoeffizient: {lm[1]:.4f}\")\n",
        "\n",
        "# 'manuell' Standardfehler des Regressionskoeffizienten berechnen\n",
        "standardfehler_beta_1 = np.sqrt( (1 / (len(x) - 2) * sum((y - vorhersagewerte_hooke) ** 2)) / sum( (x - x.mean()) ** 2  ))\n",
        "\n",
        "print(f\"Standardfehler des Regressionskoeffizienten: {standardfehler_beta_1:.4f}\")\n",
        "\n",
        "# Signifikanzniveau (alpha-Niveau) 1 - 95 % wählen\n",
        "alpha = 0.05\n",
        "n = len(x)\n",
        "\n",
        "t_wert = scipy.stats.t.ppf(q = 1 - alpha/2, df = n - 2)\n",
        "print(f\"t-Wert 95-%-Intervall (zweiseitig): {t_wert:.4f}\")\n",
        "print(f\"Konfidenzintervall 95%: {lm[1]:.4f} ± {t_wert:.4f} * {standardfehler_beta_1:.4f}\")\n",
        "print(f\"untere 95-%-Intervallgrenze: {lm[1] - t_wert * standardfehler_beta_1:.4f}\")\n",
        "print(f\"obere 95-%-Intervallgrenze: {lm[1] + t_wert * standardfehler_beta_1:.4f}\")"
      ],
      "id": "16001512",
      "execution_count": null,
      "outputs": []
    },
    {
      "cell_type": "markdown",
      "metadata": {},
      "source": [
        "Das Konfidenzintervall kann auch grafisch dargestellt werden.  \n",
        "**geht das nicht einfacher?! Das Konfidenzintervall mit `plt.fill_between()` endet bei max(x), die Regressionsgerade ist aber kontinuierlich. Man müsste mit np.linspace() x-Werte erzeugen, für diese mit poly.polyval(x, lm[0]) y-Werte erzeugen und plotten. Dabei müssten die Grenzen des Plots aus einem vorherigen plot-Aufruf abgegriffen und fest gesetzt werden.**  \n"
      ],
      "id": "01f84eb7"
    },
    {
      "cell_type": "code",
      "metadata": {},
      "source": [
        "#| fig-alt: \"Messdaten des Federexperiments (Abstandsänderung vs. wirkende Kraft) mit eingezeichneter Regressionsgeraden und 95-%-Konfidenzintervall des Anstiegs.\"\n",
        "\n",
        "# Platzhalter x & y\n",
        "x = hooke['distance']\n",
        "y = hooke['force']\n",
        "\n",
        "# Plot erstellen\n",
        "plt.scatter(x, y, label = 'Messdaten')\n",
        "plt.axline(xy1 = (0, lm[0]), slope = lm[1], label = 'Regressionsgerade\\ny = ' + \"{beta_0:.3f}\".format(beta_0 = lm[0]) + ' + ' + \"{beta_1:.3f} \".format(beta_1 = lm[1]) + 'x' )\n",
        "plt.annotate(\"$R^2$ = {:.2f}\".format(np.corrcoef(x, y)[0, 1] ** 2), (max(x) * 0.9, 1))\n",
        "\n",
        "# 95-%-Konfidenzintervall einzeichnen\n",
        "## poly.polyval(hooke['distance'], [lm[0]])\n",
        "beta1_lower_boundary = lm[1] - (t_wert * standardfehler_beta_1)\n",
        "beta1_upper_boundary = lm[1] + (t_wert * standardfehler_beta_1)\n",
        "\n",
        "y_lower_boundary = poly.polyval(hooke['distance'], [lm[0], beta1_lower_boundary])\n",
        "y_upper_boundary = poly.polyval(hooke['distance'], [lm[0], beta1_upper_boundary])\n",
        "\n",
        "plt.fill_between(x = x, y1 = y_lower_boundary , y2 = y_upper_boundary, alpha = 0.3, label = '95-%-Konfidenzintervall $\\\\beta_1$')\n",
        "\n",
        "\n",
        "plt.title(label = 'Messdaten und geschätzte Linearfunktion im 95-%-Intervall')\n",
        "plt.xlabel('gemessene Abstandsänderung in m')\n",
        "plt.ylabel('wirkende Kraft')\n",
        "plt.legend()\n",
        "\n",
        "plt.grid()\n",
        "plt.show()"
      ],
      "id": "2f8e8025",
      "execution_count": null,
      "outputs": []
    },
    {
      "cell_type": "markdown",
      "metadata": {},
      "source": [
        "### Das Modul SciPy\n",
        "Die Funktion `scipy.stats.lingress(x, y)` liefert mit einem Funktionsaufruf zahlreiche Rückgabewerte:\n",
        "\n",
        "  - Steigung der Regressionsgerade,\n",
        "  - y-Achsenschnittpunkt der Regressionsgerade,\n",
        "  - Bravais-Pearson-Korrelationskoeffizient r,\n",
        "  - p-Wert der Nullhypothese, dass die Steigung der Regressionsgerade Null ist,\n",
        "  - Standardfehler der Steigung und\n",
        "  - Standardfehler des y-Achsenschnittpunkts.\n",
        "\n",
        "Der Standardfehler des y-Achsenschnittpunkts ist nur verfügbar, wenn die Rückgabewerte in einem Objekt gespeichert werden. Die Rückgabewerte können dann als Attribute abgerufen werden.\n"
      ],
      "id": "c56d8c49"
    },
    {
      "cell_type": "code",
      "metadata": {},
      "source": [
        "# Zuweisung mehrerer Objekte\n",
        "slope, intercept, rvalue, pvalue, slope_stderr = scipy.stats.linregress(x, y)\n",
        "print(f\"y = {intercept:.4f} + {slope:.4f} * x\\n\",\n",
        "      f\"r = {rvalue:.4f} R2 = {rvalue ** 2:.4f} p = {pvalue:.4f}\\n\",\n",
        "      f\"Standardfehler des Anstiegs: {slope_stderr:.4f}\", sep = '')\n",
        "\n",
        "# Zuweisung eines Objekts\n",
        "lm = scipy.stats.linregress(x, y)\n",
        "\n",
        "print(\"\\n\", lm, sep = '')\n",
        "print(f\"y-Achsenschnittpunkt: {lm.intercept:.4f}\\nStandardfehler des y-Achsenschnittpunkts:{lm.intercept_stderr:.4f}\")"
      ],
      "id": "69e1fca1",
      "execution_count": null,
      "outputs": []
    },
    {
      "cell_type": "markdown",
      "metadata": {},
      "source": [
        "So kann mit dem entsprechenden t-Wert das Konfidenzintervall berechnet werden."
      ],
      "id": "55e75efb"
    },
    {
      "cell_type": "code",
      "metadata": {},
      "source": [
        "alpha = 0.05\n",
        "n = len(x)\n",
        "\n",
        "print(f\"{slope - scipy.stats.t.ppf(q = 1 - alpha / 2, df = n - 2) * slope_stderr:.3f}  ≤ {slope:.3f} ≤ {slope + scipy.stats.t.ppf(q = 1 - alpha / 2, df = n - 2) * slope_stderr:.3f}\")"
      ],
      "id": "ba812297",
      "execution_count": null,
      "outputs": []
    },
    {
      "cell_type": "markdown",
      "metadata": {},
      "source": [
        "### Ergebnis Federkonstante\n",
        "Die Federkonstante des Versuchaufbaus liegt mit 95 prozentiger Sicherheit im Intervall zwischen 32.27 und 33.77. Die Punktschätzung für die Federkonstante beträgt 33.02.\n",
        "\n",
        "\n",
        "**Aufgabe könnte sein, das Konfidenzintervall 99-Prozent zu berechnen.**  \n",
        "--> Dann muss man aber nur eine Zahl ändern\n",
        "\n",
        "## Resterampe - Größtfehler?!\n",
        "Siehe Musterbericht WA S. 12-13\n",
        "\n",
        "Der Größtfehler quantifiziert den ungünstigsten Fall, bei dem sich alle möglichen Fehlerquellen addieren.\n",
        "\n",
        "- grobe Fehler: falscher Versuchsaufbau, ungeeignete Messgeräte, falsches Ablesen, Unachtsamkeit --> betroffene Werte streichen und Messung Wiederholen\n",
        "\n",
        "Der Größtfehler $\\Delta x$ setzt sich zusammen aus dem systematischen Fehler und dem zufälligen Fehler. \n",
        "\n",
        "- systematische Fehler: Fehler der Messgeräte, der Art der Messung (bspw. Genauigkeit Abstandssenor)\n",
        "  - das ist die Küchenwaage, deren systematischer Fehler auf  $\\frac{g}{\\Delta x} = \\frac{9.81}{\\Delta x}$ ? Was ist Delta-x, die Ausdehnung?!\n",
        "    - Die Masse wäre 705g --> müsste die Messungenauigkeit der Küchenwaage mit 0.5 g nicht ins Verhältnis zu 705 g gesetzt werden?\n",
        "- zufällige Fehler: Streuung von Messwerten um Erwartungswert --> statistischer Charakter der Fehler\n",
        "\n",
        "Durch Umstellen nach der Federkonstante $k$ kann diese wie folgt ermittelt werden:\n",
        "\n",
        "$$\n",
        "k = \\frac{m \\times g}{\\Delta{x}}\n",
        "$$\n"
      ],
      "id": "fa4591f5"
    }
  ],
  "metadata": {
    "kernelspec": {
      "name": "python3",
      "language": "python",
      "display_name": "Python 3 (ipykernel)",
      "path": "C:\\Users\\mapoe004\\AppData\\Local\\Programs\\Python\\Python312\\share\\jupyter\\kernels\\python3"
    }
  },
  "nbformat": 4,
  "nbformat_minor": 5
}